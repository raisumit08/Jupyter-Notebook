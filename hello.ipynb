import math 

print(math.log(32,2))

